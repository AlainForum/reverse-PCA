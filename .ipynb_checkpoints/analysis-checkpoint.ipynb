{
 "cells": [
  {
   "cell_type": "code",
   "execution_count": 2,
   "metadata": {},
   "outputs": [],
   "source": [
    "import pandas as pd\n",
    "import numpy as np\n",
    "import seaborn as sns\n",
    "import matplotlib.pyplot as plt"
   ]
  },
  {
   "cell_type": "code",
   "execution_count": 9,
   "metadata": {},
   "outputs": [],
   "source": [
    "stocks = pd.read_csv('StocksMcap.csv')"
   ]
  },
  {
   "cell_type": "code",
   "execution_count": 179,
   "metadata": {},
   "outputs": [
    {
     "data": {
      "text/html": [
       "<div>\n",
       "<style>\n",
       "    .dataframe thead tr:only-child th {\n",
       "        text-align: right;\n",
       "    }\n",
       "\n",
       "    .dataframe thead th {\n",
       "        text-align: left;\n",
       "    }\n",
       "\n",
       "    .dataframe tbody tr th {\n",
       "        vertical-align: top;\n",
       "    }\n",
       "</style>\n",
       "<table border=\"1\" class=\"dataframe\">\n",
       "  <thead>\n",
       "    <tr style=\"text-align: right;\">\n",
       "      <th>Unnamed: 0</th>\n",
       "      <th>7332687^</th>\n",
       "      <th>B3B5J07^</th>\n",
       "      <th>6900212^</th>\n",
       "      <th>B3P2CN8^</th>\n",
       "      <th>B1VZ431^</th>\n",
       "      <th>2816023^</th>\n",
       "      <th>2267171^</th>\n",
       "      <th>B39J2M4^</th>\n",
       "      <th>4031879^</th>\n",
       "      <th>B15RZR4^</th>\n",
       "      <th>2288406^</th>\n",
       "    </tr>\n",
       "  </thead>\n",
       "  <tbody>\n",
       "    <tr>\n",
       "      <th>X20020918</th>\n",
       "      <td>970.811</td>\n",
       "      <td>NaN</td>\n",
       "      <td>4770.45</td>\n",
       "      <td>NaN</td>\n",
       "      <td>NaN</td>\n",
       "      <td>605.01</td>\n",
       "      <td>398.524</td>\n",
       "      <td>5220.95</td>\n",
       "      <td>8176.3</td>\n",
       "      <td>NaN</td>\n",
       "      <td>866.166</td>\n",
       "    </tr>\n",
       "    <tr>\n",
       "      <th>X20020919</th>\n",
       "      <td>937.688</td>\n",
       "      <td>NaN</td>\n",
       "      <td>5012.18</td>\n",
       "      <td>NaN</td>\n",
       "      <td>NaN</td>\n",
       "      <td>583.992</td>\n",
       "      <td>380.34</td>\n",
       "      <td>5158.68</td>\n",
       "      <td>8173</td>\n",
       "      <td>NaN</td>\n",
       "      <td>831.939</td>\n",
       "    </tr>\n",
       "    <tr>\n",
       "      <th>X20020920</th>\n",
       "      <td>909.559</td>\n",
       "      <td>NaN</td>\n",
       "      <td>4923.13</td>\n",
       "      <td>NaN</td>\n",
       "      <td>NaN</td>\n",
       "      <td>584.421</td>\n",
       "      <td>386.401</td>\n",
       "      <td>5314.22</td>\n",
       "      <td>8103.35</td>\n",
       "      <td>NaN</td>\n",
       "      <td>815.93</td>\n",
       "    </tr>\n",
       "    <tr>\n",
       "      <th>X20020923</th>\n",
       "      <td>835.596</td>\n",
       "      <td>NaN</td>\n",
       "      <td>4902.64</td>\n",
       "      <td>NaN</td>\n",
       "      <td>NaN</td>\n",
       "      <td>560.186</td>\n",
       "      <td>383.371</td>\n",
       "      <td>5242.31</td>\n",
       "      <td>7557.49</td>\n",
       "      <td>NaN</td>\n",
       "      <td>797.712</td>\n",
       "    </tr>\n",
       "    <tr>\n",
       "      <th>X20020924</th>\n",
       "      <td>820.905</td>\n",
       "      <td>NaN</td>\n",
       "      <td>4835.64</td>\n",
       "      <td>NaN</td>\n",
       "      <td>NaN</td>\n",
       "      <td>541.528</td>\n",
       "      <td>384.28</td>\n",
       "      <td>5056.08</td>\n",
       "      <td>7130.39</td>\n",
       "      <td>NaN</td>\n",
       "      <td>771.214</td>\n",
       "    </tr>\n",
       "  </tbody>\n",
       "</table>\n",
       "</div>"
      ],
      "text/plain": [
       "Unnamed: 0 7332687^ B3B5J07^ 6900212^ B3P2CN8^ B1VZ431^ 2816023^ 2267171^  \\\n",
       "X20020918   970.811      NaN  4770.45      NaN      NaN   605.01  398.524   \n",
       "X20020919   937.688      NaN  5012.18      NaN      NaN  583.992   380.34   \n",
       "X20020920   909.559      NaN  4923.13      NaN      NaN  584.421  386.401   \n",
       "X20020923   835.596      NaN  4902.64      NaN      NaN  560.186  383.371   \n",
       "X20020924   820.905      NaN  4835.64      NaN      NaN  541.528   384.28   \n",
       "\n",
       "Unnamed: 0 B39J2M4^ 4031879^ B15RZR4^ 2288406^  \n",
       "X20020918   5220.95   8176.3      NaN  866.166  \n",
       "X20020919   5158.68     8173      NaN  831.939  \n",
       "X20020920   5314.22  8103.35      NaN   815.93  \n",
       "X20020923   5242.31  7557.49      NaN  797.712  \n",
       "X20020924   5056.08  7130.39      NaN  771.214  "
      ]
     },
     "execution_count": 179,
     "metadata": {},
     "output_type": "execute_result"
    }
   ],
   "source": [
    "stocksT = stocks.transpose()\n",
    "new_header = stocksT.iloc[0] #get the first row for the header\n",
    "stocksT = stocksT[1:] #take the data less the header row\n",
    "stocksT.columns = new_header #set the header row as the df header\n",
    "stocksT.head()"
   ]
  },
  {
   "cell_type": "code",
   "execution_count": 180,
   "metadata": {},
   "outputs": [
    {
     "data": {
      "text/html": [
       "<div>\n",
       "<style>\n",
       "    .dataframe thead tr:only-child th {\n",
       "        text-align: right;\n",
       "    }\n",
       "\n",
       "    .dataframe thead th {\n",
       "        text-align: left;\n",
       "    }\n",
       "\n",
       "    .dataframe tbody tr th {\n",
       "        vertical-align: top;\n",
       "    }\n",
       "</style>\n",
       "<table border=\"1\" class=\"dataframe\">\n",
       "  <thead>\n",
       "    <tr style=\"text-align: right;\">\n",
       "      <th>Unnamed: 0</th>\n",
       "      <th>7332687^</th>\n",
       "      <th>B3B5J07^</th>\n",
       "      <th>6900212^</th>\n",
       "      <th>B3P2CN8^</th>\n",
       "      <th>B1VZ431^</th>\n",
       "      <th>2816023^</th>\n",
       "      <th>2267171^</th>\n",
       "      <th>B39J2M4^</th>\n",
       "      <th>4031879^</th>\n",
       "      <th>B15RZR4^</th>\n",
       "      <th>2288406^</th>\n",
       "    </tr>\n",
       "    <tr>\n",
       "      <th>index</th>\n",
       "      <th></th>\n",
       "      <th></th>\n",
       "      <th></th>\n",
       "      <th></th>\n",
       "      <th></th>\n",
       "      <th></th>\n",
       "      <th></th>\n",
       "      <th></th>\n",
       "      <th></th>\n",
       "      <th></th>\n",
       "      <th></th>\n",
       "    </tr>\n",
       "  </thead>\n",
       "  <tbody>\n",
       "    <tr>\n",
       "      <th>2002-09-19</th>\n",
       "      <td>937.688</td>\n",
       "      <td>NaN</td>\n",
       "      <td>5012.18</td>\n",
       "      <td>NaN</td>\n",
       "      <td>NaN</td>\n",
       "      <td>583.992</td>\n",
       "      <td>380.34</td>\n",
       "      <td>5158.68</td>\n",
       "      <td>8173</td>\n",
       "      <td>NaN</td>\n",
       "      <td>831.939</td>\n",
       "    </tr>\n",
       "    <tr>\n",
       "      <th>2002-09-20</th>\n",
       "      <td>909.559</td>\n",
       "      <td>NaN</td>\n",
       "      <td>4923.13</td>\n",
       "      <td>NaN</td>\n",
       "      <td>NaN</td>\n",
       "      <td>584.421</td>\n",
       "      <td>386.401</td>\n",
       "      <td>5314.22</td>\n",
       "      <td>8103.35</td>\n",
       "      <td>NaN</td>\n",
       "      <td>815.93</td>\n",
       "    </tr>\n",
       "    <tr>\n",
       "      <th>2002-09-23</th>\n",
       "      <td>835.596</td>\n",
       "      <td>NaN</td>\n",
       "      <td>4902.64</td>\n",
       "      <td>NaN</td>\n",
       "      <td>NaN</td>\n",
       "      <td>560.186</td>\n",
       "      <td>383.371</td>\n",
       "      <td>5242.31</td>\n",
       "      <td>7557.49</td>\n",
       "      <td>NaN</td>\n",
       "      <td>797.712</td>\n",
       "    </tr>\n",
       "    <tr>\n",
       "      <th>2002-09-24</th>\n",
       "      <td>820.905</td>\n",
       "      <td>NaN</td>\n",
       "      <td>4835.64</td>\n",
       "      <td>NaN</td>\n",
       "      <td>NaN</td>\n",
       "      <td>541.528</td>\n",
       "      <td>384.28</td>\n",
       "      <td>5056.08</td>\n",
       "      <td>7130.39</td>\n",
       "      <td>NaN</td>\n",
       "      <td>771.214</td>\n",
       "    </tr>\n",
       "    <tr>\n",
       "      <th>2002-09-25</th>\n",
       "      <td>861.63</td>\n",
       "      <td>NaN</td>\n",
       "      <td>4906.51</td>\n",
       "      <td>NaN</td>\n",
       "      <td>NaN</td>\n",
       "      <td>537.239</td>\n",
       "      <td>391.705</td>\n",
       "      <td>5220.97</td>\n",
       "      <td>7553.79</td>\n",
       "      <td>NaN</td>\n",
       "      <td>777.838</td>\n",
       "    </tr>\n",
       "  </tbody>\n",
       "</table>\n",
       "</div>"
      ],
      "text/plain": [
       "Unnamed: 0 7332687^ B3B5J07^ 6900212^ B3P2CN8^ B1VZ431^ 2816023^ 2267171^  \\\n",
       "index                                                                       \n",
       "2002-09-19  937.688      NaN  5012.18      NaN      NaN  583.992   380.34   \n",
       "2002-09-20  909.559      NaN  4923.13      NaN      NaN  584.421  386.401   \n",
       "2002-09-23  835.596      NaN  4902.64      NaN      NaN  560.186  383.371   \n",
       "2002-09-24  820.905      NaN  4835.64      NaN      NaN  541.528   384.28   \n",
       "2002-09-25   861.63      NaN  4906.51      NaN      NaN  537.239  391.705   \n",
       "\n",
       "Unnamed: 0 B39J2M4^ 4031879^ B15RZR4^ 2288406^  \n",
       "index                                           \n",
       "2002-09-19  5158.68     8173      NaN  831.939  \n",
       "2002-09-20  5314.22  8103.35      NaN   815.93  \n",
       "2002-09-23  5242.31  7557.49      NaN  797.712  \n",
       "2002-09-24  5056.08  7130.39      NaN  771.214  \n",
       "2002-09-25  5220.97  7553.79      NaN  777.838  "
      ]
     },
     "execution_count": 180,
     "metadata": {},
     "output_type": "execute_result"
    }
   ],
   "source": [
    "trimmer = lambda x: x[1:] \n",
    "stocksT = stocksT.reset_index() #reindex so we can manipultate the date field as a column\n",
    "stocksT['index'] = stocksT['index'].apply(trimmer) #remove the trailing X\n",
    "stocksT['index'] = pd.to_datetime(stocksT['index']) #convert the index col to datetime type\n",
    "stocksT = stocksT.set_index('index') #restore the index column as the actual dataframe index\n",
    "stocksT = stocksT[1:]\n",
    "stocksT.head()"
   ]
  },
  {
   "cell_type": "code",
   "execution_count": 183,
   "metadata": {},
   "outputs": [
    {
     "data": {
      "text/html": [
       "<div>\n",
       "<style>\n",
       "    .dataframe thead tr:only-child th {\n",
       "        text-align: right;\n",
       "    }\n",
       "\n",
       "    .dataframe thead th {\n",
       "        text-align: left;\n",
       "    }\n",
       "\n",
       "    .dataframe tbody tr th {\n",
       "        vertical-align: top;\n",
       "    }\n",
       "</style>\n",
       "<table border=\"1\" class=\"dataframe\">\n",
       "  <thead>\n",
       "    <tr style=\"text-align: right;\">\n",
       "      <th>Unnamed: 0</th>\n",
       "      <th>7332687^</th>\n",
       "      <th>B3B5J07^</th>\n",
       "      <th>6900212^</th>\n",
       "      <th>B3P2CN8^</th>\n",
       "      <th>B1VZ431^</th>\n",
       "      <th>2816023^</th>\n",
       "      <th>2267171^</th>\n",
       "      <th>B39J2M4^</th>\n",
       "      <th>4031879^</th>\n",
       "      <th>B15RZR4^</th>\n",
       "      <th>2288406^</th>\n",
       "    </tr>\n",
       "    <tr>\n",
       "      <th>index</th>\n",
       "      <th></th>\n",
       "      <th></th>\n",
       "      <th></th>\n",
       "      <th></th>\n",
       "      <th></th>\n",
       "      <th></th>\n",
       "      <th></th>\n",
       "      <th></th>\n",
       "      <th></th>\n",
       "      <th></th>\n",
       "      <th></th>\n",
       "    </tr>\n",
       "  </thead>\n",
       "  <tbody>\n",
       "    <tr>\n",
       "      <th>2011-10-13</th>\n",
       "      <td>NaN</td>\n",
       "      <td>NaN</td>\n",
       "      <td>NaN</td>\n",
       "      <td>NaN</td>\n",
       "      <td>NaN</td>\n",
       "      <td>NaN</td>\n",
       "      <td>NaN</td>\n",
       "      <td>NaN</td>\n",
       "      <td>NaN</td>\n",
       "      <td>NaN</td>\n",
       "      <td>NaN</td>\n",
       "    </tr>\n",
       "    <tr>\n",
       "      <th>2011-10-14</th>\n",
       "      <td>0.020197</td>\n",
       "      <td>0.006515</td>\n",
       "      <td>-0.054451</td>\n",
       "      <td>0.044362</td>\n",
       "      <td>0.002061</td>\n",
       "      <td>0.022902</td>\n",
       "      <td>-0.001140</td>\n",
       "      <td>-0.000470</td>\n",
       "      <td>0.016039</td>\n",
       "      <td>-0.032435</td>\n",
       "      <td>0.007749</td>\n",
       "    </tr>\n",
       "    <tr>\n",
       "      <th>2011-10-17</th>\n",
       "      <td>-0.013906</td>\n",
       "      <td>-0.063673</td>\n",
       "      <td>-0.004306</td>\n",
       "      <td>-0.007523</td>\n",
       "      <td>-0.031367</td>\n",
       "      <td>-0.053664</td>\n",
       "      <td>-0.012911</td>\n",
       "      <td>-0.002188</td>\n",
       "      <td>-0.036259</td>\n",
       "      <td>-0.068208</td>\n",
       "      <td>-0.040100</td>\n",
       "    </tr>\n",
       "    <tr>\n",
       "      <th>2011-10-18</th>\n",
       "      <td>0.014317</td>\n",
       "      <td>0.050601</td>\n",
       "      <td>0.009218</td>\n",
       "      <td>0.003175</td>\n",
       "      <td>0.032396</td>\n",
       "      <td>0.037275</td>\n",
       "      <td>0.006620</td>\n",
       "      <td>-0.009580</td>\n",
       "      <td>-0.026697</td>\n",
       "      <td>0.057158</td>\n",
       "      <td>0.038198</td>\n",
       "    </tr>\n",
       "    <tr>\n",
       "      <th>2011-10-19</th>\n",
       "      <td>0.010404</td>\n",
       "      <td>-0.036855</td>\n",
       "      <td>-0.015482</td>\n",
       "      <td>-0.019605</td>\n",
       "      <td>-0.011896</td>\n",
       "      <td>-0.019065</td>\n",
       "      <td>0.004294</td>\n",
       "      <td>0.025317</td>\n",
       "      <td>0.031288</td>\n",
       "      <td>-0.007435</td>\n",
       "      <td>-0.012330</td>\n",
       "    </tr>\n",
       "  </tbody>\n",
       "</table>\n",
       "</div>"
      ],
      "text/plain": [
       "Unnamed: 0  7332687^  B3B5J07^  6900212^  B3P2CN8^  B1VZ431^  2816023^  \\\n",
       "index                                                                    \n",
       "2011-10-13       NaN       NaN       NaN       NaN       NaN       NaN   \n",
       "2011-10-14  0.020197  0.006515 -0.054451  0.044362  0.002061  0.022902   \n",
       "2011-10-17 -0.013906 -0.063673 -0.004306 -0.007523 -0.031367 -0.053664   \n",
       "2011-10-18  0.014317  0.050601  0.009218  0.003175  0.032396  0.037275   \n",
       "2011-10-19  0.010404 -0.036855 -0.015482 -0.019605 -0.011896 -0.019065   \n",
       "\n",
       "Unnamed: 0  2267171^  B39J2M4^  4031879^  B15RZR4^  2288406^  \n",
       "index                                                         \n",
       "2011-10-13       NaN       NaN       NaN       NaN       NaN  \n",
       "2011-10-14 -0.001140 -0.000470  0.016039 -0.032435  0.007749  \n",
       "2011-10-17 -0.012911 -0.002188 -0.036259 -0.068208 -0.040100  \n",
       "2011-10-18  0.006620 -0.009580 -0.026697  0.057158  0.038198  \n",
       "2011-10-19  0.004294  0.025317  0.031288 -0.007435 -0.012330  "
      ]
     },
     "execution_count": 183,
     "metadata": {},
     "output_type": "execute_result"
    }
   ],
   "source": [
    "#dfP = stocksT[(stocksT.index >= \"2017-03-01\") & (stocksT.index <= \"2017-03-31\")]\n",
    "\n",
    "#calculate the log returns\n",
    "dfP = stocksT.dropna()\n",
    "dflr = np.log(dfP.astype('float') / dfP.astype('float').shift(1))\n",
    "dflr.head()"
   ]
  },
  {
   "cell_type": "code",
   "execution_count": 191,
   "metadata": {},
   "outputs": [
    {
     "data": {
      "image/png": "[encoded data removed]",
      "text/plain": [
       "<matplotlib.figure.Figure at 0x7f021441b9b0>"
      ]
     },
     "metadata": {},
     "output_type": "display_data"
    }
   ],
   "source": [
    "#have a look at the returns plot\n",
    "plt.plot(dflr.iloc[:,:])\n",
    "plt.show()"
   ]
  },
  {
   "cell_type": "raw",
   "metadata": {},
   "source": []
  },
  {
   "cell_type": "code",
   "execution_count": 203,
   "metadata": {},
   "outputs": [
    {
     "data": {
      "image/png": "[encoded data removed]",
      "text/plain": [
       "<matplotlib.figure.Figure at 0x7f020c79ada0>"
      ]
     },
     "metadata": {},
     "output_type": "display_data"
    }
   ],
   "source": [
    "#plot the distribution of returns - if it's normal then its likely stationary\n",
    "plt.hist(dflr.iloc[:,10].dropna(),bins=50)\n",
    "plt.show()"
   ]
  },
  {
   "cell_type": "code",
   "execution_count": 236,
   "metadata": {},
   "outputs": [],
   "source": [
    "\n",
    "from statsmodels.tsa.stattools import adfuller\n",
    "from matplotlib.ticker import MaxNLocator"
   ]
  },
  {
   "cell_type": "code",
   "execution_count": 212,
   "metadata": {},
   "outputs": [
    {
     "data": {
      "text/plain": [
       "-21.15407713114617"
      ]
     },
     "execution_count": 212,
     "metadata": {},
     "output_type": "execute_result"
    }
   ],
   "source": [
    "#perform ADF test to check for stationary in data - very large neagtive so reject null hyp - we have stationarity\n",
    "result = adfuller(dflr.iloc[:,10].dropna())\n",
    "result[0]"
   ]
  },
  {
   "cell_type": "code",
   "execution_count": 214,
   "metadata": {},
   "outputs": [
    {
     "data": {
      "text/html": [
       "<div>\n",
       "<style>\n",
       "    .dataframe thead tr:only-child th {\n",
       "        text-align: right;\n",
       "    }\n",
       "\n",
       "    .dataframe thead th {\n",
       "        text-align: left;\n",
       "    }\n",
       "\n",
       "    .dataframe tbody tr th {\n",
       "        vertical-align: top;\n",
       "    }\n",
       "</style>\n",
       "<table border=\"1\" class=\"dataframe\">\n",
       "  <thead>\n",
       "    <tr style=\"text-align: right;\">\n",
       "      <th>Unnamed: 0</th>\n",
       "      <th>7332687^</th>\n",
       "      <th>B3B5J07^</th>\n",
       "      <th>6900212^</th>\n",
       "      <th>B3P2CN8^</th>\n",
       "      <th>B1VZ431^</th>\n",
       "      <th>2816023^</th>\n",
       "      <th>2267171^</th>\n",
       "      <th>B39J2M4^</th>\n",
       "      <th>4031879^</th>\n",
       "      <th>B15RZR4^</th>\n",
       "      <th>2288406^</th>\n",
       "    </tr>\n",
       "    <tr>\n",
       "      <th>Unnamed: 0</th>\n",
       "      <th></th>\n",
       "      <th></th>\n",
       "      <th></th>\n",
       "      <th></th>\n",
       "      <th></th>\n",
       "      <th></th>\n",
       "      <th></th>\n",
       "      <th></th>\n",
       "      <th></th>\n",
       "      <th></th>\n",
       "      <th></th>\n",
       "    </tr>\n",
       "  </thead>\n",
       "  <tbody>\n",
       "    <tr>\n",
       "      <th>7332687^</th>\n",
       "      <td>1.000000</td>\n",
       "      <td>0.158146</td>\n",
       "      <td>0.014036</td>\n",
       "      <td>0.287733</td>\n",
       "      <td>0.270609</td>\n",
       "      <td>0.313332</td>\n",
       "      <td>0.161646</td>\n",
       "      <td>0.304974</td>\n",
       "      <td>0.418383</td>\n",
       "      <td>0.274289</td>\n",
       "      <td>0.408528</td>\n",
       "    </tr>\n",
       "    <tr>\n",
       "      <th>B3B5J07^</th>\n",
       "      <td>0.158146</td>\n",
       "      <td>1.000000</td>\n",
       "      <td>0.015962</td>\n",
       "      <td>0.217305</td>\n",
       "      <td>0.230950</td>\n",
       "      <td>0.236623</td>\n",
       "      <td>0.143261</td>\n",
       "      <td>0.054921</td>\n",
       "      <td>0.119223</td>\n",
       "      <td>0.272663</td>\n",
       "      <td>0.269250</td>\n",
       "    </tr>\n",
       "    <tr>\n",
       "      <th>6900212^</th>\n",
       "      <td>0.014036</td>\n",
       "      <td>0.015962</td>\n",
       "      <td>1.000000</td>\n",
       "      <td>0.003814</td>\n",
       "      <td>-0.022027</td>\n",
       "      <td>0.026350</td>\n",
       "      <td>0.007771</td>\n",
       "      <td>0.068592</td>\n",
       "      <td>0.067176</td>\n",
       "      <td>-0.018672</td>\n",
       "      <td>0.021515</td>\n",
       "    </tr>\n",
       "    <tr>\n",
       "      <th>B3P2CN8^</th>\n",
       "      <td>0.287733</td>\n",
       "      <td>0.217305</td>\n",
       "      <td>0.003814</td>\n",
       "      <td>1.000000</td>\n",
       "      <td>0.380808</td>\n",
       "      <td>0.469046</td>\n",
       "      <td>0.238434</td>\n",
       "      <td>0.165455</td>\n",
       "      <td>0.218243</td>\n",
       "      <td>0.400781</td>\n",
       "      <td>0.507797</td>\n",
       "    </tr>\n",
       "    <tr>\n",
       "      <th>B1VZ431^</th>\n",
       "      <td>0.270609</td>\n",
       "      <td>0.230950</td>\n",
       "      <td>-0.022027</td>\n",
       "      <td>0.380808</td>\n",
       "      <td>1.000000</td>\n",
       "      <td>0.422197</td>\n",
       "      <td>0.228528</td>\n",
       "      <td>0.127214</td>\n",
       "      <td>0.200969</td>\n",
       "      <td>0.370849</td>\n",
       "      <td>0.429918</td>\n",
       "    </tr>\n",
       "    <tr>\n",
       "      <th>2816023^</th>\n",
       "      <td>0.313332</td>\n",
       "      <td>0.236623</td>\n",
       "      <td>0.026350</td>\n",
       "      <td>0.469046</td>\n",
       "      <td>0.422197</td>\n",
       "      <td>1.000000</td>\n",
       "      <td>0.282934</td>\n",
       "      <td>0.194916</td>\n",
       "      <td>0.271993</td>\n",
       "      <td>0.459223</td>\n",
       "      <td>0.520575</td>\n",
       "    </tr>\n",
       "    <tr>\n",
       "      <th>2267171^</th>\n",
       "      <td>0.161646</td>\n",
       "      <td>0.143261</td>\n",
       "      <td>0.007771</td>\n",
       "      <td>0.238434</td>\n",
       "      <td>0.228528</td>\n",
       "      <td>0.282934</td>\n",
       "      <td>1.000000</td>\n",
       "      <td>0.164164</td>\n",
       "      <td>0.204047</td>\n",
       "      <td>0.246744</td>\n",
       "      <td>0.230129</td>\n",
       "    </tr>\n",
       "    <tr>\n",
       "      <th>B39J2M4^</th>\n",
       "      <td>0.304974</td>\n",
       "      <td>0.054921</td>\n",
       "      <td>0.068592</td>\n",
       "      <td>0.165455</td>\n",
       "      <td>0.127214</td>\n",
       "      <td>0.194916</td>\n",
       "      <td>0.164164</td>\n",
       "      <td>1.000000</td>\n",
       "      <td>0.421990</td>\n",
       "      <td>0.102959</td>\n",
       "      <td>0.192625</td>\n",
       "    </tr>\n",
       "    <tr>\n",
       "      <th>4031879^</th>\n",
       "      <td>0.418383</td>\n",
       "      <td>0.119223</td>\n",
       "      <td>0.067176</td>\n",
       "      <td>0.218243</td>\n",
       "      <td>0.200969</td>\n",
       "      <td>0.271993</td>\n",
       "      <td>0.204047</td>\n",
       "      <td>0.421990</td>\n",
       "      <td>1.000000</td>\n",
       "      <td>0.186986</td>\n",
       "      <td>0.263413</td>\n",
       "    </tr>\n",
       "    <tr>\n",
       "      <th>B15RZR4^</th>\n",
       "      <td>0.274289</td>\n",
       "      <td>0.272663</td>\n",
       "      <td>-0.018672</td>\n",
       "      <td>0.400781</td>\n",
       "      <td>0.370849</td>\n",
       "      <td>0.459223</td>\n",
       "      <td>0.246744</td>\n",
       "      <td>0.102959</td>\n",
       "      <td>0.186986</td>\n",
       "      <td>1.000000</td>\n",
       "      <td>0.456595</td>\n",
       "    </tr>\n",
       "    <tr>\n",
       "      <th>2288406^</th>\n",
       "      <td>0.408528</td>\n",
       "      <td>0.269250</td>\n",
       "      <td>0.021515</td>\n",
       "      <td>0.507797</td>\n",
       "      <td>0.429918</td>\n",
       "      <td>0.520575</td>\n",
       "      <td>0.230129</td>\n",
       "      <td>0.192625</td>\n",
       "      <td>0.263413</td>\n",
       "      <td>0.456595</td>\n",
       "      <td>1.000000</td>\n",
       "    </tr>\n",
       "  </tbody>\n",
       "</table>\n",
       "</div>"
      ],
      "text/plain": [
       "Unnamed: 0  7332687^  B3B5J07^  6900212^  B3P2CN8^  B1VZ431^  2816023^  \\\n",
       "Unnamed: 0                                                               \n",
       "7332687^    1.000000  0.158146  0.014036  0.287733  0.270609  0.313332   \n",
       "B3B5J07^    0.158146  1.000000  0.015962  0.217305  0.230950  0.236623   \n",
       "6900212^    0.014036  0.015962  1.000000  0.003814 -0.022027  0.026350   \n",
       "B3P2CN8^    0.287733  0.217305  0.003814  1.000000  0.380808  0.469046   \n",
       "B1VZ431^    0.270609  0.230950 -0.022027  0.380808  1.000000  0.422197   \n",
       "2816023^    0.313332  0.236623  0.026350  0.469046  0.422197  1.000000   \n",
       "2267171^    0.161646  0.143261  0.007771  0.238434  0.228528  0.282934   \n",
       "B39J2M4^    0.304974  0.054921  0.068592  0.165455  0.127214  0.194916   \n",
       "4031879^    0.418383  0.119223  0.067176  0.218243  0.200969  0.271993   \n",
       "B15RZR4^    0.274289  0.272663 -0.018672  0.400781  0.370849  0.459223   \n",
       "2288406^    0.408528  0.269250  0.021515  0.507797  0.429918  0.520575   \n",
       "\n",
       "Unnamed: 0  2267171^  B39J2M4^  4031879^  B15RZR4^  2288406^  \n",
       "Unnamed: 0                                                    \n",
       "7332687^    0.161646  0.304974  0.418383  0.274289  0.408528  \n",
       "B3B5J07^    0.143261  0.054921  0.119223  0.272663  0.269250  \n",
       "6900212^    0.007771  0.068592  0.067176 -0.018672  0.021515  \n",
       "B3P2CN8^    0.238434  0.165455  0.218243  0.400781  0.507797  \n",
       "B1VZ431^    0.228528  0.127214  0.200969  0.370849  0.429918  \n",
       "2816023^    0.282934  0.194916  0.271993  0.459223  0.520575  \n",
       "2267171^    1.000000  0.164164  0.204047  0.246744  0.230129  \n",
       "B39J2M4^    0.164164  1.000000  0.421990  0.102959  0.192625  \n",
       "4031879^    0.204047  0.421990  1.000000  0.186986  0.263413  \n",
       "B15RZR4^    0.246744  0.102959  0.186986  1.000000  0.456595  \n",
       "2288406^    0.230129  0.192625  0.263413  0.456595  1.000000  "
      ]
     },
     "execution_count": 214,
     "metadata": {},
     "output_type": "execute_result"
    }
   ],
   "source": [
    "dflr.corr()"
   ]
  },
  {
   "cell_type": "code",
   "execution_count": 234,
   "metadata": {},
   "outputs": [
    {
     "data": {
      "image/png": "[encoded data removed]",
      "text/plain": [
       "<matplotlib.figure.Figure at 0x7f020c0ab860>"
      ]
     },
     "metadata": {},
     "output_type": "display_data"
    }
   ],
   "source": [
    "#calculate the pearson correlation matrix over the time frame - this is normalised with the std dev\n",
    "ax = sns.heatmap(dflr.dropna().corr(),cmap=\"Reds\")\n",
    "plt.show()"
   ]
  },
  {
   "cell_type": "code",
   "execution_count": 230,
   "metadata": {},
   "outputs": [],
   "source": [
    "dflr = dflr.dropna()\n",
    "m = dflr.mean(axis=0)\n",
    "s = dflr.std(ddof=1, axis=0)\n",
    " \n",
    "# normalised time-series as an input for PCA\n",
    "dflr_pca = (dflr - m)/s\n",
    " \n",
    "c = np.cov(dflr_pca.values.T)     # covariance matrix     # covariance matrix\n",
    "co = np.corrcoef(dflr_pca.values.T) \n"
   ]
  },
  {
   "cell_type": "code",
   "execution_count": 239,
   "metadata": {},
   "outputs": [
    {
     "data": {
      "image/png": "[encoded data removed]",
      "text/plain": [
       "<matplotlib.figure.Figure at 0x7f020634a7b8>"
      ]
     },
     "metadata": {},
     "output_type": "display_data"
    }
   ],
   "source": [
    "tickers = list(dflr.columns)\n",
    " \n",
    "plt.figure(figsize=(8,8))\n",
    "plt.imshow(co, cmap=\"RdGy\", interpolation=\"nearest\")\n",
    "cb = plt.colorbar()\n",
    "cb.set_label(\"Correlation Matrix Coefficients\")\n",
    "plt.title(\"Correlation Matrix\", fontsize=14)\n",
    "plt.xticks(np.arange(len(tickers)), tickers, rotation=90)\n",
    "plt.yticks(np.arange(len(tickers)), tickers)\n",
    "plt.show()"
   ]
  },
  {
   "cell_type": "code",
   "execution_count": 242,
   "metadata": {},
   "outputs": [
    {
     "data": {
      "image/png": "[encoded data removed]",
      "text/plain": [
       "<matplotlib.figure.Figure at 0x7f02062ed4a8>"
      ]
     },
     "metadata": {},
     "output_type": "display_data"
    }
   ],
   "source": [
    "# perform PCA\n",
    "w, v = np.linalg.eig(c)  \n",
    " \n",
    "ax = plt.figure(figsize=(8,8)).gca()\n",
    "plt.imshow(v, cmap=\"bwr\", interpolation=\"nearest\")\n",
    "cb = plt.colorbar()\n",
    "plt.yticks(np.arange(len(tickers)), tickers)\n",
    "plt.xlabel(\"PC Number\")\n",
    "plt.title(\"PCA\", fontsize=14)\n",
    "# force x-tickers to be displayed as integers (not floats)\n",
    "ax.xaxis.set_major_locator(MaxNLocator(integer=True))\n",
    "plt.show()"
   ]
  },
  {
   "cell_type": "code",
   "execution_count": null,
   "metadata": {},
   "outputs": [],
   "source": [
    "\n",
    "eig_vals, eig_vecs = np.linalg.eig(c)\n",
    "print('Eigenvectors \\n%s' %eig_vecs)\n",
    "print('\\nEigenvalues \\n%s' %eig_vals)"
   ]
  },
  {
   "cell_type": "code",
   "execution_count": null,
   "metadata": {},
   "outputs": [],
   "source": [
    "u,s,v = np.linalg.svd(c)\n"
   ]
  },
  {
   "cell_type": "code",
   "execution_count": 265,
   "metadata": {
    "collapsed": true
   },
   "outputs": [],
   "source": [
    "from sklearn.preprocessing import StandardScaler\n",
    "from sklearn.decomposition import PCA"
   ]
  },
  {
   "cell_type": "code",
   "execution_count": 266,
   "metadata": {},
   "outputs": [],
   "source": [
    "scaler = StandardScaler()\n",
    "scaler.fit(dflr)\n",
    "X=scaler.transform(dflr)    \n",
    "pca = PCA()\n",
    "x_new = pca.fit_transform(dflr)"
   ]
  },
  {
   "cell_type": "code",
   "execution_count": 268,
   "metadata": {},
   "outputs": [
    {
     "data": {
      "image/png": "[encoded data removed]",
      "text/plain": [
       "<matplotlib.figure.Figure at 0x7f02061bc748>"
      ]
     },
     "metadata": {},
     "output_type": "display_data"
    }
   ],
   "source": [
    "#plot contribution of each PC to the total variance\n",
    "plt.bar(range(11),pca.explained_variance_ratio_)\n",
    "plt.title('variancelained by pc')\n",
    "plt.show()"
   ]
  },
  {
   "cell_type": "code",
   "execution_count": 269,
   "metadata": {},
   "outputs": [
    {
     "data": {
      "text/plain": [
       "array([[ 0.01020912, -0.01297173],\n",
       "       [-0.09911568,  0.06758165],\n",
       "       [ 0.07310088, -0.03793354],\n",
       "       ..., \n",
       "       [-0.02041936, -0.0058155 ],\n",
       "       [-0.05350745,  0.00463278],\n",
       "       [ 0.01476514, -0.0160537 ]])"
      ]
     },
     "execution_count": 269,
     "metadata": {},
     "output_type": "execute_result"
    }
   ],
   "source": [
    "x_new[:,0:2]"
   ]
  },
  {
   "cell_type": "code",
   "execution_count": 274,
   "metadata": {},
   "outputs": [
    {
     "data": {
      "image/png": "[encoded data removed]",
      "text/plain": [
       "<matplotlib.figure.Figure at 0x7f020c96e390>"
      ]
     },
     "metadata": {},
     "output_type": "display_data"
    }
   ],
   "source": [
    "xs = x_new[:,0]\n",
    "ys = x_new[:,1]\n",
    "\n",
    "scalex = 1.0/(xs.max() - xs.min())\n",
    "scaley = 1.0/(ys.max() - ys.min())\n",
    "\n",
    "plt.scatter(xs * scalex,ys * scaley)\n",
    "plt.xlim([-0.1,0.2])\n",
    "plt.ylim([-0.2,0.2])\n",
    "plt.show()"
   ]
  },
  {
   "cell_type": "code",
   "execution_count": null,
   "metadata": {
    "collapsed": true
   },
   "outputs": [],
   "source": []
  }
 ],
 "metadata": {
  "kernelspec": {
   "display_name": "Python 3",
   "language": "python",
   "name": "python3"
  },
  "language_info": {
   "codemirror_mode": {
    "name": "ipython",
    "version": 3
   },
   "file_extension": ".py",
   "mimetype": "text/x-python",
   "name": "python",
   "nbconvert_exporter": "python",
   "pygments_lexer": "ipython3",
   "version": "3.6.1"
  }
 },
 "nbformat": 4,
 "nbformat_minor": 2
}
